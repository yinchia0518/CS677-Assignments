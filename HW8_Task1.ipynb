{
 "cells": [
  {
   "cell_type": "code",
   "execution_count": 1,
   "metadata": {},
   "outputs": [],
   "source": [
    "import os\n",
    "import numpy as np\n",
    "import pandas as pd\n",
    "import matplotlib.pyplot as plt"
   ]
  },
  {
   "cell_type": "code",
   "execution_count": 2,
   "metadata": {},
   "outputs": [],
   "source": [
    "HMC_df = pd.read_csv('/Users/yinchiahuang/Library/Mobile Documents/com~apple~CloudDocs/CS677/Assignments/yinchia@bu.edu_hw1/HMC_Honda Motor Co., Ltd.csv')\n",
    "SP500_df = pd.read_csv('/Users/yinchiahuang/Library/Mobile Documents/com~apple~CloudDocs/CS677/Assignments/yinchia@bu.edu_hw8/SP500.csv')"
   ]
  },
  {
   "cell_type": "code",
   "execution_count": 3,
   "metadata": {},
   "outputs": [],
   "source": [
    "HMC = HMC_df.copy()\n",
    "HMC.rename(columns={'Adj Close': 'HMC_Price'}, inplace = True) \n",
    "HMC = HMC[['Date', 'HMC_Price']]\n",
    "HMC['HMC_return'] = HMC['HMC_Price'].pct_change() \n",
    "\n",
    "SP500 = SP500_df.copy()\n",
    "SP500.rename(columns={'Adj Close': 'SP500_Price'}, inplace = True) \n",
    "SP500 = SP500[['Date','SP500_Price']]\n",
    "SP500['SP500_return'] = SP500['SP500_Price'].pct_change() \n",
    "\n",
    "HMC_2017 = HMC.copy()\n",
    "HMC_2017['Date'] = pd.to_datetime(HMC_2017['Date'])\n",
    "start_date = '12-01-2017'\n",
    "end_date = '12-31-2017'\n",
    "mask = (HMC_2017['Date'] > start_date) & (HMC_2017['Date'] <= end_date)\n",
    "HMC_2017 = HMC_2017.loc[mask]\n",
    "\n",
    "SP500_2017 = SP500.copy()\n",
    "SP500_2017['Date'] = pd.to_datetime(SP500_2017['Date'])\n",
    "mask = (SP500_2017['Date'] > start_date) & (SP500_2017['Date'] <= end_date)\n",
    "SP500_2017 = SP500_2017.loc[mask]\n"
   ]
  },
  {
   "cell_type": "code",
   "execution_count": 4,
   "metadata": {},
   "outputs": [],
   "source": [
    "#HMC_2017"
   ]
  },
  {
   "cell_type": "code",
   "execution_count": 5,
   "metadata": {},
   "outputs": [],
   "source": [
    "#SP500_2017"
   ]
  },
  {
   "cell_type": "markdown",
   "metadata": {},
   "source": [
    "#### scatter plot of HMC return and S&P500 return"
   ]
  },
  {
   "cell_type": "code",
   "execution_count": 6,
   "metadata": {},
   "outputs": [
    {
     "data": {
      "text/plain": [
       "Text(0.5,1,'2017 December')"
      ]
     },
     "execution_count": 6,
     "metadata": {},
     "output_type": "execute_result"
    },
    {
     "data": {
      "image/png": "[encoded data removed]",
      "text/plain": [
       "<Figure size 432x288 with 1 Axes>"
      ]
     },
     "metadata": {},
     "output_type": "display_data"
    }
   ],
   "source": [
    "x = SP500_2017['SP500_return']\n",
    "y = HMC_2017['HMC_return']\n",
    "\n",
    "x = np.array(x)[:,np.newaxis]\n",
    "y = np.array(y)[:,np.newaxis]\n",
    "\n",
    "\n",
    "plt.scatter(x, y)\n",
    "plt.xlabel('S&P 500 daily return')\n",
    "plt.ylabel('HMC daily return')\n",
    "plt.title('2017 December')"
   ]
  },
  {
   "cell_type": "code",
   "execution_count": 7,
   "metadata": {},
   "outputs": [
    {
     "data": {
      "text/plain": [
       "Text(0.5,1,'2017 December LinearRegression')"
      ]
     },
     "execution_count": 7,
     "metadata": {},
     "output_type": "execute_result"
    },
    {
     "data": {
      "image/png": "[encoded data removed]",
      "text/plain": [
       "<Figure size 432x288 with 1 Axes>"
      ]
     },
     "metadata": {},
     "output_type": "display_data"
    }
   ],
   "source": [
    "from sklearn.linear_model import LinearRegression\n",
    "model = LinearRegression(fit_intercept=True)\n",
    "\n",
    "model.fit(x, y)\n",
    "\n",
    "\n",
    "# Train the model using the training sets\n",
    "\n",
    "predicted_y = model.predict(x)\n",
    "#print(predicted_y)\n",
    "\n",
    "plt.scatter(x, predicted_y)\n",
    "\n",
    "\n",
    "plt.xlabel('S&P 500 daily return')\n",
    "plt.ylabel('HMC predicted daily return')\n",
    "plt.title('2017 December LinearRegression')\n"
   ]
  },
  {
   "cell_type": "code",
   "execution_count": 8,
   "metadata": {},
   "outputs": [
    {
     "name": "stdout",
     "output_type": "stream",
     "text": [
      "y-interception: [0.00120363]\n",
      "beta coefficients: [[0.41193081]]\n"
     ]
    }
   ],
   "source": [
    "print(\"y-interception:\",model.intercept_)\n",
    "print(\"beta coefficients:\", model.coef_)"
   ]
  },
  {
   "cell_type": "markdown",
   "metadata": {},
   "source": [
    "#### Apply this equation for next month: January 2018"
   ]
  },
  {
   "cell_type": "code",
   "execution_count": 9,
   "metadata": {},
   "outputs": [],
   "source": [
    "HMC_2018 = HMC.copy()\n",
    "HMC_2018['Date'] = pd.to_datetime(HMC_2018['Date'])\n",
    "start_date = '01-01-2018'\n",
    "end_date = '01-31-2018'\n",
    "mask = (HMC_2018['Date'] > start_date) & (HMC_2018['Date'] <= end_date)\n",
    "HMC_2018 = HMC_2018.loc[mask]\n",
    "\n",
    "SP500_2018 = SP500.copy()\n",
    "SP500_2018['Date'] = pd.to_datetime(SP500_2018['Date'])\n",
    "mask = (SP500_2018['Date'] > start_date) & (SP500_2018['Date'] <= end_date)\n",
    "SP500_2018 = SP500_2018.loc[mask]\n"
   ]
  },
  {
   "cell_type": "code",
   "execution_count": 10,
   "metadata": {},
   "outputs": [],
   "source": [
    "#HMC_2018"
   ]
  },
  {
   "cell_type": "code",
   "execution_count": 11,
   "metadata": {},
   "outputs": [],
   "source": [
    "#SP500_2018 "
   ]
  },
  {
   "cell_type": "markdown",
   "metadata": {},
   "source": [
    "- STEP 1. Actual returns for for your stock January: a1, ….., a20   \n",
    "- STEP 2. Actual returns for S&P-500:x1, …. X20\n",
    "- STEP 3. Compute predicted values: y1, …, y 20\n",
    "- STEP 4. Compute MSE"
   ]
  },
  {
   "cell_type": "code",
   "execution_count": 12,
   "metadata": {},
   "outputs": [],
   "source": [
    "a_list = HMC_2018[\"HMC_return\"].tolist()\n",
    "x_list = SP500_2018['SP500_return'].tolist()\n",
    "\n",
    "x_array = np.array(x_list)[:,np.newaxis]\n",
    "a_array = np.array(a_list)[:,np.newaxis]\n",
    "y_array = model.predict(x_array)\n"
   ]
  },
  {
   "cell_type": "code",
   "execution_count": 13,
   "metadata": {},
   "outputs": [
    {
     "data": {
      "image/png": "[encoded data removed]",
      "text/plain": [
       "<Figure size 432x288 with 1 Axes>"
      ]
     },
     "metadata": {},
     "output_type": "display_data"
    }
   ],
   "source": [
    "colors = ['b', 'r']\n",
    "\n",
    "actual_plot = plt.scatter(x_list, a_list, marker='o', color=colors[0])\n",
    "predicted_plot  = plt.scatter(x_list, y_array, marker='x', color=colors[1])\n",
    "\n",
    "plt.legend((actual_plot, predicted_plot),\n",
    "           ('actual', 'predicted'),\n",
    "           scatterpoints=1,\n",
    "           loc='lower left',\n",
    "           ncol=3,\n",
    "           fontsize=8)\n",
    "\n",
    "plt.xlabel('S&P 500 daily return')\n",
    "plt.ylabel('HMC daily return')\n",
    "plt.title('2018 January actualand predicted return using regression line calculated with data from Dec 2017')\n",
    "\n",
    "plt.show()"
   ]
  },
  {
   "cell_type": "code",
   "execution_count": 14,
   "metadata": {},
   "outputs": [
    {
     "name": "stdout",
     "output_type": "stream",
     "text": [
      "Use simple regression equation calculated by Dec,2017 daily return to predict Jan,2018's daily return:\n",
      "MSE = 0.009771236226620295\n"
     ]
    },
    {
     "data": {
      "text/plain": [
       "0.009771236226620295"
      ]
     },
     "execution_count": 14,
     "metadata": {},
     "output_type": "execute_result"
    }
   ],
   "source": [
    "#Compute MSE\n",
    "from sklearn.metrics import mean_squared_error\n",
    "from math import sqrt\n",
    "\n",
    "rms = sqrt(mean_squared_error(a_list ,y_array))\n",
    "print(\"Use simple regression equation calculated by Dec,2017 daily return to predict Jan,2018's daily return:\\nMSE =\", rms)\n",
    "rms"
   ]
  },
  {
   "cell_type": "markdown",
   "metadata": {},
   "source": [
    "#### Leave One Out: Take the first point out, compute linear regression and apply it to predict that point"
   ]
  },
  {
   "cell_type": "code",
   "execution_count": 15,
   "metadata": {},
   "outputs": [
    {
     "name": "stdout",
     "output_type": "stream",
     "text": [
      "i= 0 relative error= 30.5212\n",
      "i= 1 relative error= 109.0627\n",
      "i= 2 relative error= 163.8683\n",
      "i= 3 relative error= 68.8818\n",
      "i= 4 relative error= 346.7297\n",
      "i= 5 relative error= 119.6319\n",
      "i= 6 relative error= 71.7288\n",
      "i= 7 relative error= 89.0484\n",
      "i= 8 relative error= 90.5584\n",
      "i= 9 relative error= 1118.8448\n",
      "i= 10 relative error= 78.9232\n",
      "i= 11 relative error= 115.1625\n",
      "i= 12 relative error= 126.2785\n",
      "i= 13 relative error= 15.9187\n",
      "i= 14 relative error= 75.4457\n",
      "i= 15 relative error= 78.7808\n",
      "i= 16 relative error= 69.6986\n",
      "i= 17 relative error= 195.5642\n",
      "i= 18 relative error= 99.8156\n"
     ]
    },
    {
     "data": {
      "text/plain": [
       "{0: 30.5212,\n",
       " 1: 109.0627,\n",
       " 2: 163.8683,\n",
       " 3: 68.8818,\n",
       " 4: 346.7297,\n",
       " 5: 119.6319,\n",
       " 6: 71.7288,\n",
       " 7: 89.0484,\n",
       " 8: 90.5584,\n",
       " 9: 1118.8448,\n",
       " 10: 78.9232,\n",
       " 11: 115.1625,\n",
       " 12: 126.2785,\n",
       " 13: 15.9187,\n",
       " 14: 75.4457,\n",
       " 15: 78.7808,\n",
       " 16: 69.6986,\n",
       " 17: 195.5642,\n",
       " 18: 99.8156}"
      ]
     },
     "execution_count": 15,
     "metadata": {},
     "output_type": "execute_result"
    }
   ],
   "source": [
    "# Example: for first day, n=1, return on the stock was was 0.1. \n",
    "# You remove that point, compute the regression line on remaining points and use S&P return for that day to predict(x_1)\n",
    "\n",
    "HMC_2017 = HMC_2017.reset_index()\n",
    "SP500_2017 = SP500_2017.reset_index()\n",
    "relative_error_dic = {}\n",
    "\n",
    "for i in range(len(HMC_2017)):\n",
    "    \n",
    "    remove_x = SP500_2017.iloc[i,3]\n",
    "    actual_y = HMC_2017.iloc[i,3]\n",
    "    \n",
    "    rows = [r for r in range(len(HMC_2017)) if r != i]\n",
    "\n",
    "    x = SP500_2017.iloc[rows,3]\n",
    "    x = np.array(x)[:,np.newaxis]\n",
    "    \n",
    "    y = HMC_2017.iloc[rows,3]\n",
    "    y = np.array(y)[:,np.newaxis]\n",
    "\n",
    "    model = LinearRegression(fit_intercept=True)\n",
    "    model.fit(x, y)\n",
    "    \n",
    "    predicted_y = model.predict(remove_x)\n",
    "\n",
    "    relative_error =  100* abs((predicted_y - actual_y) / actual_y)\n",
    "    relative_error = round(relative_error[0][0],4)\n",
    "    relative_error_dic[i]= relative_error\n",
    "    print(\"i=\", i, 'relative error=', relative_error)\n",
    "\n",
    "relative_error_dic\n"
   ]
  },
  {
   "cell_type": "markdown",
   "metadata": {},
   "source": [
    "##### Plot the following graph: on X axis you have point 1, 2, 3, 4…  19   On Y axis, you will indicate “relative error”"
   ]
  },
  {
   "cell_type": "code",
   "execution_count": 16,
   "metadata": {},
   "outputs": [
    {
     "data": {
      "image/png": "[encoded data removed]",
      "text/plain": [
       "<Figure size 432x288 with 1 Axes>"
      ]
     },
     "metadata": {},
     "output_type": "display_data"
    }
   ],
   "source": [
    "relative_error_list = relative_error_dic.items()\n",
    "x, y = zip(*relative_error_list) # unpack a list of pairs into two tuples\n",
    "x = list(i+1 for i in x)\n",
    "plt.scatter(x, y)\n",
    "plt.xlabel('the ith day of Dec,2017')\n",
    "plt.ylabel('relative error')\n",
    "plt.title('Relative error of linear regression calculated without ith day in Dec 2017')\n",
    "plt.xlim(0, 20)\n",
    "plt.xticks(np.arange(0, 20, 1))\n",
    "plt.show()"
   ]
  },
  {
   "attachments": {},
   "cell_type": "markdown",
   "metadata": {},
   "source": [
    "- (1) Choose the values of alpha and beta that correspond to the minimum relative error\n",
    "- (2) Use this linear regression to analyze data in January"
   ]
  },
  {
   "cell_type": "code",
   "execution_count": 17,
   "metadata": {},
   "outputs": [
    {
     "data": {
      "text/plain": [
       "(13, 15.9187)"
      ]
     },
     "execution_count": 17,
     "metadata": {},
     "output_type": "execute_result"
    }
   ],
   "source": [
    "# In this case, min() will return the element in that array whose second element (x[1]) is smaller than all of \n",
    "# the other elements' second elements. \n",
    "# Another way of phrasing it is as the function call implies: return the min element, using x[1] as the key.\n",
    "min(relative_error_dic.items(), key=lambda x: x[1]) "
   ]
  },
  {
   "cell_type": "code",
   "execution_count": 18,
   "metadata": {},
   "outputs": [
    {
     "name": "stdout",
     "output_type": "stream",
     "text": [
      "y-interception: [0.00121734]\n",
      "beta coefficients: [[0.41356548]]\n",
      "MSE = 0.009770308625838903\n"
     ]
    },
    {
     "data": {
      "image/png": "[encoded data removed]",
      "text/plain": [
       "<Figure size 432x288 with 1 Axes>"
      ]
     },
     "metadata": {},
     "output_type": "display_data"
    }
   ],
   "source": [
    "# the linear regression when removing i =13\n",
    "i = 13\n",
    "remove_x = SP500_2017.iloc[i,3]\n",
    "actual_y = HMC_2017.iloc[i,3]\n",
    "    \n",
    "rows = [r for r in range(len(HMC_2017)) if r != i]\n",
    "\n",
    "x = SP500_2017.iloc[rows,3]\n",
    "x = np.array(x)[:,np.newaxis]\n",
    "    \n",
    "y = HMC_2017.iloc[rows,3]\n",
    "y = np.array(y)[:,np.newaxis]\n",
    "\n",
    "model = LinearRegression(fit_intercept=True)\n",
    "model.fit(x, y)\n",
    "\n",
    "print(\"y-interception:\",model.intercept_)\n",
    "print(\"beta coefficients:\", model.coef_)\n",
    "    \n",
    "# Use this linear regression to analyze data in January\n",
    "a_list = HMC_2018[\"HMC_return\"].tolist()\n",
    "x_list = SP500_2018['SP500_return'].tolist()\n",
    "\n",
    "x_array = np.array(x_list)[:,np.newaxis]\n",
    "a_array = np.array(a_list)[:,np.newaxis]\n",
    "\n",
    "y_array = model.predict(x_array)\n",
    "\n",
    "rms = sqrt(mean_squared_error(a_list ,y_array))\n",
    "print(\"MSE =\", rms)\n",
    "\n",
    "### Visualize the result\n",
    "colors = ['b', 'r']\n",
    "\n",
    "actual_plot = plt.scatter(x_list, a_list, marker='o', color=colors[0])\n",
    "predicted_plot  = plt.scatter(x_list, y_array, marker='x', color=colors[1])\n",
    "\n",
    "plt.legend((actual_plot, predicted_plot),\n",
    "           ('actual', 'predicted'),\n",
    "           scatterpoints=1,\n",
    "           loc='lower left',\n",
    "           ncol=3,\n",
    "           fontsize=8)\n",
    "\n",
    "plt.xlabel('S&P 500 daily return')\n",
    "plt.ylabel('HMC daily return')\n",
    "plt.title('2018 January actualand predicted return using regression line calculated without 13rd day in Dec 2017')\n",
    "\n",
    "plt.show()\n"
   ]
  },
  {
   "cell_type": "markdown",
   "metadata": {},
   "source": [
    "- Is it true that if we get the “best” linear regression (using leave one out)? \n",
    "- Run each “reduced” linear regression for January and compute MSE"
   ]
  },
  {
   "cell_type": "code",
   "execution_count": 19,
   "metadata": {},
   "outputs": [
    {
     "name": "stdout",
     "output_type": "stream",
     "text": [
      "i= 0 MSE = 0.009773\n",
      "i= 1 MSE = 0.009948\n",
      "i= 2 MSE = 0.009795\n",
      "i= 3 MSE = 0.009816\n",
      "i= 4 MSE = 0.00969\n",
      "i= 5 MSE = 0.009759\n",
      "i= 6 MSE = 0.00978\n",
      "i= 7 MSE = 0.009729\n",
      "i= 8 MSE = 0.009821\n",
      "i= 9 MSE = 0.00965\n",
      "i= 10 MSE = 0.01\n",
      "i= 11 MSE = 0.009621\n",
      "i= 12 MSE = 0.009835\n",
      "i= 13 MSE = 0.00977\n",
      "i= 14 MSE = 0.00975\n",
      "i= 15 MSE = 0.009747\n",
      "i= 16 MSE = 0.009766\n",
      "i= 17 MSE = 0.009764\n",
      "i= 18 MSE = 0.009933\n"
     ]
    }
   ],
   "source": [
    "rms_dic = {}\n",
    "\n",
    "for i in range(len(HMC_2017)):\n",
    "    \n",
    "    rows = [r for r in range(len(HMC_2017)) if r != i]\n",
    "    \n",
    "    x = SP500_2017.iloc[rows,3]\n",
    "    x = np.array(x)[:,np.newaxis]\n",
    "    \n",
    "    y = HMC_2017.iloc[rows,3]\n",
    "    y = np.array(y)[:,np.newaxis]\n",
    "\n",
    "    model = LinearRegression(fit_intercept=True)\n",
    "    model.fit(x, y)\n",
    "    \n",
    "    y_array = model.predict(x_array)\n",
    "    \n",
    "    # Use this linear regression to analyze data in January\n",
    "    rms = round(sqrt(mean_squared_error(a_list ,y_array)),6)\n",
    "    rms_dic[i]= rms\n",
    "    print(\"i=\", i, \"MSE =\", rms)\n",
    "    "
   ]
  },
  {
   "cell_type": "code",
   "execution_count": 20,
   "metadata": {},
   "outputs": [
    {
     "data": {
      "text/plain": [
       "(11, 0.009621)"
      ]
     },
     "execution_count": 20,
     "metadata": {},
     "output_type": "execute_result"
    }
   ],
   "source": [
    "min(rms_dic.items(), key=lambda x: x[1]) "
   ]
  },
  {
   "attachments": {},
   "cell_type": "markdown",
   "metadata": {},
   "source": [
    "Answer: No! The “best” linear regression (using leave one out) is when we remove the 13rd day of Dec, 2017. However, the smallest MSE among all regression applied on data in Jan,2018 is the one without the 11st day of Dec, 2017. "
   ]
  },
  {
   "cell_type": "code",
   "execution_count": null,
   "metadata": {},
   "outputs": [],
   "source": []
  }
 ],
 "metadata": {
  "kernelspec": {
   "display_name": "Python 3",
   "language": "python",
   "name": "python3"
  },
  "language_info": {
   "codemirror_mode": {
    "name": "ipython",
    "version": 3
   },
   "file_extension": ".py",
   "mimetype": "text/x-python",
   "name": "python",
   "nbconvert_exporter": "python",
   "pygments_lexer": "ipython3",
   "version": "3.6.5"
  }
 },
 "nbformat": 4,
 "nbformat_minor": 2
}
