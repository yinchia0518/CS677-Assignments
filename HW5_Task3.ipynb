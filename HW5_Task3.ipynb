{
 "cells": [
  {
   "cell_type": "code",
   "execution_count": 1,
   "metadata": {},
   "outputs": [],
   "source": [
    "import os\n",
    "import numpy as np\n",
    "import pandas as pd\n",
    "import matplotlib.pyplot as plt "
   ]
  },
  {
   "cell_type": "code",
   "execution_count": 2,
   "metadata": {},
   "outputs": [],
   "source": [
    "df = pd.read_csv('/Users/yinchiahuang/Library/Mobile Documents/com~apple~CloudDocs/CS677/Assignments/yinchia@bu.edu_hw1/HMC_Honda Motor Co., Ltd.csv')"
   ]
  },
  {
   "cell_type": "code",
   "execution_count": 3,
   "metadata": {},
   "outputs": [],
   "source": [
    "def compute_histogram(df,bins=20,win=1):\n",
    "    try:\n",
    "        new_df = df.copy()\n",
    "        new_df.rename(columns={'Adj Close': 'Price'}, inplace = True)\n",
    "        new_df = new_df[['Date', 'Price']]\n",
    "        new_df['pct_change'] = new_df['Price'].pct_change(win)\n",
    "        new_df['pct_change'].fillna(0, inplace = True)\n",
    "        change_array = new_df['pct_change'].as_matrix()\n",
    "        hist, bin_edges = np.histogram(a=change_array, bins = bins , density = True)\n",
    "        weights = np.ones_like(change_array)/float(len(change_array))\n",
    "        plt.hist(change_array,weights = weights)\n",
    "        \n",
    "        return hist,bin_edges\n",
    "\n",
    "    except Exception as e:\n",
    "        print(e)\n",
    "        return None, None\n"
   ]
  },
  {
   "cell_type": "code",
   "execution_count": 4,
   "metadata": {},
   "outputs": [
    {
     "name": "stderr",
     "output_type": "stream",
     "text": [
      "/Users/yinchiahuang/anaconda3/lib/python3.6/site-packages/ipykernel_launcher.py:8: FutureWarning: Method .as_matrix will be removed in a future version. Use .values instead.\n",
      "  \n"
     ]
    },
    {
     "data": {
      "image/png": "[encoded data removed]",
      "text/plain": [
       "<Figure size 432x288 with 1 Axes>"
      ]
     },
     "metadata": {},
     "output_type": "display_data"
    }
   ],
   "source": [
    "hist_list = []\n",
    "\n",
    "for win in range(2,31):\n",
    "    hist, edges = compute_histogram(df, bins=20,win=win)\n",
    "    hist_list.append(hist)\n",
    "    \n",
    "hist_reference, edges = compute_histogram(df, bins=20, win=1)\n"
   ]
  },
  {
   "cell_type": "code",
   "execution_count": 5,
   "metadata": {},
   "outputs": [
    {
     "data": {
      "text/plain": [
       "29"
      ]
     },
     "execution_count": 5,
     "metadata": {},
     "output_type": "execute_result"
    }
   ],
   "source": [
    "len(hist_list)"
   ]
  },
  {
   "attachments": {},
   "cell_type": "markdown",
   "metadata": {},
   "source": [
    "### Computation of distances:"
   ]
  },
  {
   "cell_type": "markdown",
   "metadata": {},
   "source": [
    "#### Euclidean"
   ]
  },
  {
   "cell_type": "code",
   "execution_count": 6,
   "metadata": {},
   "outputs": [
    {
     "data": {
      "text/plain": [
       "[23.724677348014854,\n",
       " 22.298851594298274,\n",
       " 27.44173349492371,\n",
       " 30.139522115906306,\n",
       " 32.05297144930537,\n",
       " 33.980828070733864,\n",
       " 35.81879118983783,\n",
       " 36.74831946918829,\n",
       " 38.44455709476717,\n",
       " 39.436161822529655,\n",
       " 40.13825607067231,\n",
       " 42.619975357475425,\n",
       " 40.62490045822091,\n",
       " 41.09597791292773,\n",
       " 41.64954539120343,\n",
       " 42.22449551260835,\n",
       " 42.99028161478312,\n",
       " 43.50475214328278,\n",
       " 43.464152548865755,\n",
       " 43.76167133126635,\n",
       " 44.509674897882384,\n",
       " 45.066510640836654,\n",
       " 45.01928615234783,\n",
       " 45.128805231735164,\n",
       " 45.577833998638376,\n",
       " 45.844938532060034,\n",
       " 46.2515373541556,\n",
       " 46.2965268982681,\n",
       " 46.672001395946225]"
      ]
     },
     "execution_count": 6,
     "metadata": {},
     "output_type": "execute_result"
    }
   ],
   "source": [
    "from scipy.spatial import distance\n",
    "distance_euclidean = []\n",
    "for i in range(len(hist_list)):\n",
    "    dst_euclidean = distance.euclidean(hist_list[i],hist_reference)\n",
    "    distance_euclidean.append(dst_euclidean)\n",
    "\n",
    "distance_euclidean"
   ]
  },
  {
   "cell_type": "markdown",
   "metadata": {},
   "source": [
    "### cityblock (“Manhattan”)"
   ]
  },
  {
   "cell_type": "code",
   "execution_count": 7,
   "metadata": {},
   "outputs": [
    {
     "data": {
      "text/plain": [
       "[56.02722954522973,\n",
       " 47.99959769955962,\n",
       " 56.62247586344025,\n",
       " 61.8810612252632,\n",
       " 66.61361545427232,\n",
       " 74.22632814141173,\n",
       " 74.3098551774905,\n",
       " 75.93434403876309,\n",
       " 81.82167658026414,\n",
       " 85.46497032034706,\n",
       " 89.40069844991332,\n",
       " 96.35359963848757,\n",
       " 91.5156520197274,\n",
       " 93.34139426194905,\n",
       " 92.69952883405625,\n",
       " 93.41027818989228,\n",
       " 94.95700274446982,\n",
       " 97.93973167191827,\n",
       " 93.36226681031168,\n",
       " 93.94787538314719,\n",
       " 95.55724450899201,\n",
       " 96.36471081075051,\n",
       " 96.17127090753075,\n",
       " 97.10822256562494,\n",
       " 98.82428320907623,\n",
       " 100.7858440941785,\n",
       " 102.38276726622401,\n",
       " 101.28940323771732,\n",
       " 101.80096572120497]"
      ]
     },
     "execution_count": 7,
     "metadata": {},
     "output_type": "execute_result"
    }
   ],
   "source": [
    "distance_manhattan = []\n",
    "for i in range(len(hist_list)):\n",
    "    dst_manhattan = distance.cityblock(hist_list[i],hist_reference)\n",
    "    distance_manhattan.append(dst_manhattan)\n",
    "\n",
    "                   \n",
    "distance_manhattan"
   ]
  },
  {
   "cell_type": "code",
   "execution_count": 8,
   "metadata": {},
   "outputs": [
    {
     "data": {
      "text/html": [
       "<div>\n",
       "<style scoped>\n",
       "    .dataframe tbody tr th:only-of-type {\n",
       "        vertical-align: middle;\n",
       "    }\n",
       "\n",
       "    .dataframe tbody tr th {\n",
       "        vertical-align: top;\n",
       "    }\n",
       "\n",
       "    .dataframe thead th {\n",
       "        text-align: right;\n",
       "    }\n",
       "</style>\n",
       "<table border=\"1\" class=\"dataframe\">\n",
       "  <thead>\n",
       "    <tr style=\"text-align: right;\">\n",
       "      <th></th>\n",
       "      <th>win</th>\n",
       "      <th>euclidean_distance</th>\n",
       "      <th>manhattan_distance</th>\n",
       "    </tr>\n",
       "  </thead>\n",
       "  <tbody>\n",
       "    <tr>\n",
       "      <th>0</th>\n",
       "      <td>2</td>\n",
       "      <td>23.724677</td>\n",
       "      <td>56.027230</td>\n",
       "    </tr>\n",
       "    <tr>\n",
       "      <th>1</th>\n",
       "      <td>3</td>\n",
       "      <td>22.298852</td>\n",
       "      <td>47.999598</td>\n",
       "    </tr>\n",
       "    <tr>\n",
       "      <th>2</th>\n",
       "      <td>4</td>\n",
       "      <td>27.441733</td>\n",
       "      <td>56.622476</td>\n",
       "    </tr>\n",
       "    <tr>\n",
       "      <th>3</th>\n",
       "      <td>5</td>\n",
       "      <td>30.139522</td>\n",
       "      <td>61.881061</td>\n",
       "    </tr>\n",
       "    <tr>\n",
       "      <th>4</th>\n",
       "      <td>6</td>\n",
       "      <td>32.052971</td>\n",
       "      <td>66.613615</td>\n",
       "    </tr>\n",
       "    <tr>\n",
       "      <th>5</th>\n",
       "      <td>7</td>\n",
       "      <td>33.980828</td>\n",
       "      <td>74.226328</td>\n",
       "    </tr>\n",
       "    <tr>\n",
       "      <th>6</th>\n",
       "      <td>8</td>\n",
       "      <td>35.818791</td>\n",
       "      <td>74.309855</td>\n",
       "    </tr>\n",
       "    <tr>\n",
       "      <th>7</th>\n",
       "      <td>9</td>\n",
       "      <td>36.748319</td>\n",
       "      <td>75.934344</td>\n",
       "    </tr>\n",
       "    <tr>\n",
       "      <th>8</th>\n",
       "      <td>10</td>\n",
       "      <td>38.444557</td>\n",
       "      <td>81.821677</td>\n",
       "    </tr>\n",
       "    <tr>\n",
       "      <th>9</th>\n",
       "      <td>11</td>\n",
       "      <td>39.436162</td>\n",
       "      <td>85.464970</td>\n",
       "    </tr>\n",
       "    <tr>\n",
       "      <th>10</th>\n",
       "      <td>12</td>\n",
       "      <td>40.138256</td>\n",
       "      <td>89.400698</td>\n",
       "    </tr>\n",
       "    <tr>\n",
       "      <th>11</th>\n",
       "      <td>13</td>\n",
       "      <td>42.619975</td>\n",
       "      <td>96.353600</td>\n",
       "    </tr>\n",
       "    <tr>\n",
       "      <th>12</th>\n",
       "      <td>14</td>\n",
       "      <td>40.624900</td>\n",
       "      <td>91.515652</td>\n",
       "    </tr>\n",
       "    <tr>\n",
       "      <th>13</th>\n",
       "      <td>15</td>\n",
       "      <td>41.095978</td>\n",
       "      <td>93.341394</td>\n",
       "    </tr>\n",
       "    <tr>\n",
       "      <th>14</th>\n",
       "      <td>16</td>\n",
       "      <td>41.649545</td>\n",
       "      <td>92.699529</td>\n",
       "    </tr>\n",
       "    <tr>\n",
       "      <th>15</th>\n",
       "      <td>17</td>\n",
       "      <td>42.224496</td>\n",
       "      <td>93.410278</td>\n",
       "    </tr>\n",
       "    <tr>\n",
       "      <th>16</th>\n",
       "      <td>18</td>\n",
       "      <td>42.990282</td>\n",
       "      <td>94.957003</td>\n",
       "    </tr>\n",
       "    <tr>\n",
       "      <th>17</th>\n",
       "      <td>19</td>\n",
       "      <td>43.504752</td>\n",
       "      <td>97.939732</td>\n",
       "    </tr>\n",
       "    <tr>\n",
       "      <th>18</th>\n",
       "      <td>20</td>\n",
       "      <td>43.464153</td>\n",
       "      <td>93.362267</td>\n",
       "    </tr>\n",
       "    <tr>\n",
       "      <th>19</th>\n",
       "      <td>21</td>\n",
       "      <td>43.761671</td>\n",
       "      <td>93.947875</td>\n",
       "    </tr>\n",
       "    <tr>\n",
       "      <th>20</th>\n",
       "      <td>22</td>\n",
       "      <td>44.509675</td>\n",
       "      <td>95.557245</td>\n",
       "    </tr>\n",
       "    <tr>\n",
       "      <th>21</th>\n",
       "      <td>23</td>\n",
       "      <td>45.066511</td>\n",
       "      <td>96.364711</td>\n",
       "    </tr>\n",
       "    <tr>\n",
       "      <th>22</th>\n",
       "      <td>24</td>\n",
       "      <td>45.019286</td>\n",
       "      <td>96.171271</td>\n",
       "    </tr>\n",
       "    <tr>\n",
       "      <th>23</th>\n",
       "      <td>25</td>\n",
       "      <td>45.128805</td>\n",
       "      <td>97.108223</td>\n",
       "    </tr>\n",
       "    <tr>\n",
       "      <th>24</th>\n",
       "      <td>26</td>\n",
       "      <td>45.577834</td>\n",
       "      <td>98.824283</td>\n",
       "    </tr>\n",
       "    <tr>\n",
       "      <th>25</th>\n",
       "      <td>27</td>\n",
       "      <td>45.844939</td>\n",
       "      <td>100.785844</td>\n",
       "    </tr>\n",
       "    <tr>\n",
       "      <th>26</th>\n",
       "      <td>28</td>\n",
       "      <td>46.251537</td>\n",
       "      <td>102.382767</td>\n",
       "    </tr>\n",
       "    <tr>\n",
       "      <th>27</th>\n",
       "      <td>29</td>\n",
       "      <td>46.296527</td>\n",
       "      <td>101.289403</td>\n",
       "    </tr>\n",
       "    <tr>\n",
       "      <th>28</th>\n",
       "      <td>30</td>\n",
       "      <td>46.672001</td>\n",
       "      <td>101.800966</td>\n",
       "    </tr>\n",
       "  </tbody>\n",
       "</table>\n",
       "</div>"
      ],
      "text/plain": [
       "    win  euclidean_distance  manhattan_distance\n",
       "0     2           23.724677           56.027230\n",
       "1     3           22.298852           47.999598\n",
       "2     4           27.441733           56.622476\n",
       "3     5           30.139522           61.881061\n",
       "4     6           32.052971           66.613615\n",
       "5     7           33.980828           74.226328\n",
       "6     8           35.818791           74.309855\n",
       "7     9           36.748319           75.934344\n",
       "8    10           38.444557           81.821677\n",
       "9    11           39.436162           85.464970\n",
       "10   12           40.138256           89.400698\n",
       "11   13           42.619975           96.353600\n",
       "12   14           40.624900           91.515652\n",
       "13   15           41.095978           93.341394\n",
       "14   16           41.649545           92.699529\n",
       "15   17           42.224496           93.410278\n",
       "16   18           42.990282           94.957003\n",
       "17   19           43.504752           97.939732\n",
       "18   20           43.464153           93.362267\n",
       "19   21           43.761671           93.947875\n",
       "20   22           44.509675           95.557245\n",
       "21   23           45.066511           96.364711\n",
       "22   24           45.019286           96.171271\n",
       "23   25           45.128805           97.108223\n",
       "24   26           45.577834           98.824283\n",
       "25   27           45.844939          100.785844\n",
       "26   28           46.251537          102.382767\n",
       "27   29           46.296527          101.289403\n",
       "28   30           46.672001          101.800966"
      ]
     },
     "execution_count": 8,
     "metadata": {},
     "output_type": "execute_result"
    }
   ],
   "source": [
    "d = {'win': range(2,31),'euclidean_distance': distance_euclidean, 'manhattan_distance': distance_manhattan}\n",
    "distance_df = pd.DataFrame(data=d)\n",
    "distance_df"
   ]
  },
  {
   "cell_type": "code",
   "execution_count": 9,
   "metadata": {},
   "outputs": [],
   "source": [
    "import matplotlib.pyplot as plt\n",
    "import pandas as pd"
   ]
  },
  {
   "cell_type": "code",
   "execution_count": 15,
   "metadata": {},
   "outputs": [
    {
     "data": {
      "image/png": "[encoded data removed]",
      "text/plain": [
       "<Figure size 432x288 with 1 Axes>"
      ]
     },
     "metadata": {},
     "output_type": "display_data"
    }
   ],
   "source": [
    "distance_df.plot(kind='scatter', x='win', y='euclidean_distance',color='blue')\n",
    "plt.show()"
   ]
  },
  {
   "cell_type": "code",
   "execution_count": 14,
   "metadata": {},
   "outputs": [
    {
     "data": {
      "image/png": "[encoded data removed]",
      "text/plain": [
       "<Figure size 432x288 with 1 Axes>"
      ]
     },
     "metadata": {},
     "output_type": "display_data"
    }
   ],
   "source": [
    "distance_df.plot(kind='scatter', x='win', y='manhattan_distance', color='red')\n",
    "plt.show()"
   ]
  },
  {
   "cell_type": "code",
   "execution_count": 13,
   "metadata": {},
   "outputs": [
    {
     "data": {
      "text/plain": [
       "[Text(0,0.5,'distance'), Text(0.5,0,'win')]"
      ]
     },
     "execution_count": 13,
     "metadata": {},
     "output_type": "execute_result"
    },
    {
     "data": {
      "image/png": "[encoded data removed]",
      "text/plain": [
       "<Figure size 432x288 with 1 Axes>"
      ]
     },
     "metadata": {},
     "output_type": "display_data"
    }
   ],
   "source": [
    "ax = distance_df.plot(kind='scatter', x='win', y='euclidean_distance',color='blue', label='euclidean');\n",
    "distance_df.plot(kind='scatter', x='win', y='manhattan_distance', color='red', label='manhattan', ax=ax);\n",
    "ax.set(xlabel=\"win\", ylabel=\"distance\")"
   ]
  },
  {
   "cell_type": "code",
   "execution_count": null,
   "metadata": {},
   "outputs": [],
   "source": []
  }
 ],
 "metadata": {
  "kernelspec": {
   "display_name": "Python 3",
   "language": "python",
   "name": "python3"
  },
  "language_info": {
   "codemirror_mode": {
    "name": "ipython",
    "version": 3
   },
   "file_extension": ".py",
   "mimetype": "text/x-python",
   "name": "python",
   "nbconvert_exporter": "python",
   "pygments_lexer": "ipython3",
   "version": "3.6.5"
  }
 },
 "nbformat": 4,
 "nbformat_minor": 2
}
